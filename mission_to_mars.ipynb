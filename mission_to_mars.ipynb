{
 "cells": [
  {
   "cell_type": "code",
   "execution_count": 1,
   "metadata": {},
   "outputs": [],
   "source": [
    "# import beautiful soup\n",
    "from bs4 import BeautifulSoup as bs\n",
    "\n",
    "# import Pandas\n",
    "import pandas as pd\n",
    "\n",
    "# import splinter for automated browser manipulation\n",
    "from splinter import Browser\n",
    "\n",
    "# import request library for http requests\n",
    "import requests\n",
    "\n",
    "# import time\n",
    "import time"
   ]
  },
  {
   "cell_type": "code",
   "execution_count": 2,
   "metadata": {},
   "outputs": [
    {
     "name": "stdout",
     "output_type": "stream",
     "text": [
      "NASA's Opportunity Rover Mission on Mars Comes to End\n",
      "NASA's Opportunity Mars rover mission is complete after 15 years on Mars. Opportunity's record-breaking exploration laid the groundwork for future missions to the Red Planet.\n"
     ]
    }
   ],
   "source": [
    "# Mars news url to be scraped\n",
    "mars_news_url = \"https://mars.nasa.gov/news/\"\n",
    "\n",
    "# module to call API\n",
    "response = requests.get(mars_news_url)\n",
    "\n",
    "# scrape raw text from page\n",
    "soup = bs(response.text, \"html.parser\")\n",
    "\n",
    "# print soup\n",
    "#print(soup.prettify())\n",
    "\n",
    "# get all the responses as an iterable list\n",
    "results = soup.find_all('div', class_=\"slide\")\n",
    "\n",
    "# print the latest news\n",
    "#print(results[0].prettify)\n",
    "\n",
    "# get news title\n",
    "mars_news_title = results[0].find(\"div\", class_=\"content_title\").find(\"a\").text.strip()\n",
    "print(mars_news_title)\n",
    "\n",
    "# get news text\n",
    "mars_news_text = results[0].find(\"div\", class_=\"rollover_description_inner\").text.strip()\n",
    "print(mars_news_text)"
   ]
  },
  {
   "cell_type": "code",
   "execution_count": 3,
   "metadata": {},
   "outputs": [],
   "source": [
    "# open browser\n",
    "executable_path = {'executable_path': 'chromedriver.exe'}\n",
    "browser = Browser('chrome', **executable_path, headless=False)\n",
    "\n",
    "# visit the page for image\n",
    "mars_image_url = \"https://www.jpl.nasa.gov/spaceimages/?search=&category=Mars\"\n",
    "browser.visit(mars_image_url)\n",
    "\n",
    "# find the button to clicked the feature image\n",
    "button = browser.click_link_by_partial_text(\"FULL IMAGE\")"
   ]
  },
  {
   "cell_type": "code",
   "execution_count": 4,
   "metadata": {},
   "outputs": [
    {
     "name": "stdout",
     "output_type": "stream",
     "text": [
      "<class 'bs4.element.Tag'>\n",
      "https://www.jpl.nasa.gov/spaceimages/images/mediumsize/PIA17175_ip.jpg\n"
     ]
    }
   ],
   "source": [
    "# Otherwise, this code cannot run in one flow; please blame Splinter\n",
    "time.sleep(1)\n",
    "\n",
    "# get image url\n",
    "soup = bs(browser.html, \"html.parser\")\n",
    "whatever = soup.find(\"img\", {\"class\":\"fancybox-image\"})\n",
    "print(type(whatever))\n",
    "featured_image_url = \"https://www.jpl.nasa.gov\" + whatever[\"src\"]\n",
    "print(featured_image_url)\n",
    "\n",
    "browser.quit()"
   ]
  },
  {
   "cell_type": "code",
   "execution_count": 5,
   "metadata": {},
   "outputs": [
    {
     "name": "stdout",
     "output_type": "stream",
     "text": [
      "InSight sol 84 (2019-02-20) low -95.1ºC (-139.2ºF) high -13.2ºC (8.3ºF)\n",
      "winds from the SW at 4.1 m/s (9.3 mph) gusting to 10.8 m/s (24.2 mph)\n"
     ]
    }
   ],
   "source": [
    "# Mars weather url to be scraped\n",
    "mars_weather_url = \"https://twitter.com/marswxreport?lang=en\"\n",
    "\n",
    "# module to call API\n",
    "response = requests.get(mars_weather_url)\n",
    "\n",
    "# scrape raw text from page\n",
    "soup = bs(response.text, \"html.parser\")\n",
    "\n",
    "# print soup\n",
    "#print(soup.prettify())\n",
    "\n",
    "# get all the responses as an iterable list\n",
    "results = soup.find_all('div', class_=\"js-tweet-text-container\")\n",
    "\n",
    "# print the latest weather tweet\n",
    "# print(results[0].prettify)\n",
    "\n",
    "# get tweet text\n",
    "for result in results:\n",
    "    # get rid of the unwanted tail\n",
    "    trash = result.find(\"a\", class_=\"twitter-timeline-link\")\n",
    "    _ = trash.extract()\n",
    "    # now get the \"pure\" output\n",
    "    mars_weather = result.find(\"p\", class_=\"js-tweet-text\").text.strip()\n",
    "    # if it's a valid weather tweet\n",
    "    if \"InSight\" in mars_weather:\n",
    "        print(mars_weather)\n",
    "        break"
   ]
  },
  {
   "cell_type": "code",
   "execution_count": 6,
   "metadata": {},
   "outputs": [
    {
     "data": {
      "text/plain": [
       "'<table border=\"1\" class=\"dataframe\">\\n  <thead>\\n    <tr style=\"text-align: right;\">\\n      <th></th>\\n      <th>Parameter</th>\\n      <th>Value</th>\\n    </tr>\\n  </thead>\\n  <tbody>\\n    <tr>\\n      <th>0</th>\\n      <td>Equatorial Diameter:</td>\\n      <td>6,792 km</td>\\n    </tr>\\n    <tr>\\n      <th>1</th>\\n      <td>Polar Diameter:</td>\\n      <td>6,752 km</td>\\n    </tr>\\n    <tr>\\n      <th>2</th>\\n      <td>Mass:</td>\\n      <td>6.42 x 10^23 kg (10.7% Earth)</td>\\n    </tr>\\n    <tr>\\n      <th>3</th>\\n      <td>Moons:</td>\\n      <td>2 (Phobos &amp; Deimos)</td>\\n    </tr>\\n    <tr>\\n      <th>4</th>\\n      <td>Orbit Distance:</td>\\n      <td>227,943,824 km (1.52 AU)</td>\\n    </tr>\\n    <tr>\\n      <th>5</th>\\n      <td>Orbit Period:</td>\\n      <td>687 days (1.9 years)</td>\\n    </tr>\\n    <tr>\\n      <th>6</th>\\n      <td>Surface Temperature:</td>\\n      <td>-153 to 20 °C</td>\\n    </tr>\\n    <tr>\\n      <th>7</th>\\n      <td>First Record:</td>\\n      <td>2nd millennium BC</td>\\n    </tr>\\n    <tr>\\n      <th>8</th>\\n      <td>Recorded By:</td>\\n      <td>Egyptian astronomers</td>\\n    </tr>\\n  </tbody>\\n</table>'"
      ]
     },
     "metadata": {},
     "output_type": "display_data"
    }
   ],
   "source": [
    "# Mars facts url to be scraped\n",
    "mars_facts_url = \"https://space-facts.com/mars/\"\n",
    "\n",
    "# read table into pandas\n",
    "tables = pd.read_html(mars_facts_url)\n",
    "table = tables[0]\n",
    "\n",
    "# change name of columns\n",
    "table.columns = ['Parameter', 'Value']\n",
    "#display(table)\n",
    "\n",
    "# convert table to html\n",
    "mars_facts = table.to_html()\n",
    "display(mars_facts)"
   ]
  },
  {
   "cell_type": "code",
   "execution_count": 7,
   "metadata": {},
   "outputs": [],
   "source": [
    "# open browser (if closed already)\n",
    "executable_path = {'executable_path': 'chromedriver.exe'}\n",
    "browser = Browser('chrome', **executable_path, headless=False)\n",
    "\n",
    "# visit the page for image\n",
    "mars_hemis_url = \"https://astrogeology.usgs.gov/search/results?q=hemisphere+enhanced&k1=target&v1=Mars\"\n",
    "browser.visit(mars_hemis_url)\n",
    "\n",
    "\n",
    "# find the button to clicked the feature image\n",
    "buttons = browser.find_by_css('img[class=\"thumb\"]')\n",
    "buttons_length = len(buttons)\n",
    "button = buttons[0]\n",
    "\n",
    "dict_list = []\n",
    "\n",
    "# loop over all the buttons\n",
    "for i in range(buttons_length):\n",
    "    button.click()\n",
    "    \n",
    "    #extract elements with beautifulsoup\n",
    "    soup = bs(browser.html, \"html.parser\")\n",
    "    img_title = soup.find('h2', class_=\"title\").text.strip()\n",
    "    img_url = soup.find('a', target=\"_blank\")['href']\n",
    "    \n",
    "    # append list of dictionaries\n",
    "    this_dict = {\n",
    "        \"title\": \"\",\n",
    "        \"img_url\": \"\"\n",
    "    }\n",
    "    this_dict[\"title\"] = img_title\n",
    "    this_dict[\"img_url\"] = img_url\n",
    "    dict_list.append(this_dict)\n",
    "\n",
    "    # go back one level\n",
    "    browser.back()\n",
    "    buttons = browser.find_by_css('img[class=\"thumb\"]')\n",
    "    if i+1 in range(buttons_length):\n",
    "        button = buttons[i+1]\n",
    "    else:\n",
    "        pass\n",
    "    \n",
    "browser.quit()"
   ]
  },
  {
   "cell_type": "code",
   "execution_count": 8,
   "metadata": {},
   "outputs": [
    {
     "name": "stdout",
     "output_type": "stream",
     "text": [
      "[{'title': 'Cerberus Hemisphere Enhanced', 'img_url': 'http://astropedia.astrogeology.usgs.gov/download/Mars/Viking/cerberus_enhanced.tif/full.jpg'}, {'title': 'Schiaparelli Hemisphere Enhanced', 'img_url': 'http://astropedia.astrogeology.usgs.gov/download/Mars/Viking/schiaparelli_enhanced.tif/full.jpg'}, {'title': 'Syrtis Major Hemisphere Enhanced', 'img_url': 'http://astropedia.astrogeology.usgs.gov/download/Mars/Viking/syrtis_major_enhanced.tif/full.jpg'}, {'title': 'Valles Marineris Hemisphere Enhanced', 'img_url': 'http://astropedia.astrogeology.usgs.gov/download/Mars/Viking/valles_marineris_enhanced.tif/full.jpg'}]\n"
     ]
    }
   ],
   "source": [
    "print(dict_list)"
   ]
  },
  {
   "cell_type": "code",
   "execution_count": 9,
   "metadata": {},
   "outputs": [],
   "source": [
    "# Looks like the scraping part is finished"
   ]
  },
  {
   "cell_type": "code",
   "execution_count": null,
   "metadata": {},
   "outputs": [],
   "source": []
  }
 ],
 "metadata": {
  "kernelspec": {
   "display_name": "Python 3",
   "language": "python",
   "name": "python3"
  },
  "language_info": {
   "codemirror_mode": {
    "name": "ipython",
    "version": 3
   },
   "file_extension": ".py",
   "mimetype": "text/x-python",
   "name": "python",
   "nbconvert_exporter": "python",
   "pygments_lexer": "ipython3",
   "version": "3.7.0"
  }
 },
 "nbformat": 4,
 "nbformat_minor": 2
}
