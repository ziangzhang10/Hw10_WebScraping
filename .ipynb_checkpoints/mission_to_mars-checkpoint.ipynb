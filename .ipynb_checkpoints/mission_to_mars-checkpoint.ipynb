{
 "cells": [
  {
   "cell_type": "code",
   "execution_count": 1,
   "metadata": {},
   "outputs": [],
   "source": [
    "# import beautiful soup\n",
    "from bs4 import BeautifulSoup as bs\n",
    "\n",
    "# import Pandas\n",
    "import pandas as pd\n",
    "\n",
    "# import splinter for automated browser manipulation\n",
    "from splinter import Browser\n",
    "\n",
    "# import request library for http requests\n",
    "import requests"
   ]
  },
  {
   "cell_type": "code",
   "execution_count": 2,
   "metadata": {},
   "outputs": [
    {
     "name": "stdout",
     "output_type": "stream",
     "text": [
      "NASA's Opportunity Rover Mission on Mars Comes to End\n",
      "NASA's Opportunity Mars rover mission is complete after 15 years on Mars. Opportunity's record-breaking exploration laid the groundwork for future missions to the Red Planet.\n"
     ]
    }
   ],
   "source": [
    "# Mars news url to be scraped\n",
    "mars_news_url = \"https://mars.nasa.gov/news/\"\n",
    "\n",
    "# module to call API\n",
    "response = requests.get(mars_news_url)\n",
    "\n",
    "# scrape raw text from page\n",
    "soup = bs(response.text, \"html.parser\")\n",
    "\n",
    "# print soup\n",
    "#print(soup.prettify())\n",
    "\n",
    "# get all the responses as an iterable list\n",
    "results = soup.find_all('div', class_=\"slide\")\n",
    "\n",
    "# print the latest news\n",
    "#print(results[0].prettify)\n",
    "\n",
    "# get news title\n",
    "mars_news_title = results[0].find(\"div\", class_=\"content_title\").find(\"a\").text.strip()\n",
    "print(mars_news_title)\n",
    "\n",
    "# get news text\n",
    "mars_news_text = results[0].find(\"div\", class_=\"rollover_description_inner\").text.strip()\n",
    "print(mars_news_text)"
   ]
  },
  {
   "cell_type": "code",
   "execution_count": 3,
   "metadata": {},
   "outputs": [],
   "source": [
    "# open browser\n",
    "executable_path = {'executable_path': 'chromedriver.exe'}\n",
    "browser = Browser('chrome', **executable_path, headless=False)\n",
    "\n",
    "# visit the page for image\n",
    "mars_image_url = \"https://www.jpl.nasa.gov/spaceimages/?search=&category=Mars\"\n",
    "browser.visit(mars_image_url)\n",
    "\n",
    "# find the button to clicked the feature image\n",
    "button = browser.click_link_by_partial_text(\"FULL IMAGE\")"
   ]
  },
  {
   "cell_type": "code",
   "execution_count": 4,
   "metadata": {},
   "outputs": [
    {
     "name": "stdout",
     "output_type": "stream",
     "text": [
      "<class 'NoneType'>\n"
     ]
    },
    {
     "ename": "TypeError",
     "evalue": "'NoneType' object is not subscriptable",
     "output_type": "error",
     "traceback": [
      "\u001b[1;31m---------------------------------------------------------------------------\u001b[0m",
      "\u001b[1;31mTypeError\u001b[0m                                 Traceback (most recent call last)",
      "\u001b[1;32m<ipython-input-4-d4f6c6c6e561>\u001b[0m in \u001b[0;36m<module>\u001b[1;34m()\u001b[0m\n\u001b[0;32m      3\u001b[0m \u001b[0mwhatever\u001b[0m \u001b[1;33m=\u001b[0m \u001b[0msoup\u001b[0m\u001b[1;33m.\u001b[0m\u001b[0mfind\u001b[0m\u001b[1;33m(\u001b[0m\u001b[1;34m\"img\"\u001b[0m\u001b[1;33m,\u001b[0m \u001b[0mclass_\u001b[0m \u001b[1;33m=\u001b[0m \u001b[1;34m\"fancybox-image\"\u001b[0m\u001b[1;33m)\u001b[0m\u001b[1;33m\u001b[0m\u001b[0m\n\u001b[0;32m      4\u001b[0m \u001b[0mprint\u001b[0m\u001b[1;33m(\u001b[0m\u001b[0mtype\u001b[0m\u001b[1;33m(\u001b[0m\u001b[0mwhatever\u001b[0m\u001b[1;33m)\u001b[0m\u001b[1;33m)\u001b[0m\u001b[1;33m\u001b[0m\u001b[0m\n\u001b[1;32m----> 5\u001b[1;33m \u001b[0mfeatured_image_url\u001b[0m \u001b[1;33m=\u001b[0m \u001b[1;34m\"https://www.jpl.nasa.gov\"\u001b[0m \u001b[1;33m+\u001b[0m \u001b[0mwhatever\u001b[0m\u001b[1;33m[\u001b[0m\u001b[1;34m\"src\"\u001b[0m\u001b[1;33m]\u001b[0m\u001b[1;33m\u001b[0m\u001b[0m\n\u001b[0m\u001b[0;32m      6\u001b[0m \u001b[0mprint\u001b[0m\u001b[1;33m(\u001b[0m\u001b[0mfeatured_image_url\u001b[0m\u001b[1;33m)\u001b[0m\u001b[1;33m\u001b[0m\u001b[0m\n\u001b[0;32m      7\u001b[0m \u001b[1;33m\u001b[0m\u001b[0m\n",
      "\u001b[1;31mTypeError\u001b[0m: 'NoneType' object is not subscriptable"
     ]
    }
   ],
   "source": [
    "# get image url\n",
    "soup = bs(browser.html, \"html.parser\")\n",
    "whatever = soup.find(\"img\", {\"class\":\"fancybox-image\"})[\"src\"]\n",
    "print(type(whatever))\n",
    "featured_image_url = \"https://www.jpl.nasa.gov\" + whatever[\"src\"]\n",
    "print(featured_image_url)\n",
    "\n",
    "browser.quit()"
   ]
  },
  {
   "cell_type": "code",
   "execution_count": null,
   "metadata": {},
   "outputs": [],
   "source": [
    "# Mars weather url to be scraped\n",
    "mars_weather_url = \"https://twitter.com/marswxreport?lang=en\"\n",
    "\n",
    "# module to call API\n",
    "response = requests.get(mars_weather_url)\n",
    "\n",
    "# scrape raw text from page\n",
    "soup = bs(response.text, \"html.parser\")\n",
    "\n",
    "# print soup\n",
    "#print(soup.prettify())\n",
    "\n",
    "# get all the responses as an iterable list\n",
    "results = soup.find_all('div', class_=\"js-tweet-text-container\")\n",
    "\n",
    "# print the latest weather tweet\n",
    "# print(results[0].prettify)\n",
    "\n",
    "# get tweet text\n",
    "for result in results:\n",
    "    # get rid of the unwanted tail\n",
    "    trash = result.find(\"a\", class_=\"twitter-timeline-link\")\n",
    "    _ = trash.extract()\n",
    "    # now get the \"pure\" output\n",
    "    mars_weather = result.find(\"p\", class_=\"js-tweet-text\").text.strip()\n",
    "    # if it's a valid weather tweet\n",
    "    if \"InSight\" in mars_weather:\n",
    "        print(mars_weather)\n",
    "        break"
   ]
  },
  {
   "cell_type": "code",
   "execution_count": null,
   "metadata": {},
   "outputs": [],
   "source": [
    "# Mars weather url to be scraped\n",
    "mars_facts_url = \"https://space-facts.com/mars/\"\n",
    "\n",
    "# read table into pandas\n",
    "tables = pd.read_html(mars_facts_url)\n",
    "table = tables[0]\n",
    "\n",
    "# change name of columns\n",
    "table.columns = ['Parameter', 'Value']\n",
    "#display(table)\n",
    "\n",
    "# convert table to html\n",
    "mars_facts = table.to_html()\n",
    "display(mars_facts)"
   ]
  },
  {
   "cell_type": "code",
   "execution_count": null,
   "metadata": {},
   "outputs": [],
   "source": [
    "# open browser (if closed already)\n",
    "executable_path = {'executable_path': 'chromedriver.exe'}\n",
    "browser = Browser('chrome', **executable_path, headless=False)\n",
    "\n",
    "# visit the page for image\n",
    "mars_hemis_url = \"https://astrogeology.usgs.gov/search/results?q=hemisphere+enhanced&k1=target&v1=Mars\"\n",
    "browser.visit(mars_hemis_url)\n",
    "\n",
    "\n",
    "# find the button to clicked the feature image\n",
    "buttons = browser.find_by_css('img[class=\"thumb\"]')\n",
    "buttons_length = len(buttons)\n",
    "button = buttons[0]\n",
    "\n",
    "dict_list = []\n",
    "\n",
    "# loop over all the buttons\n",
    "for i in range(buttons_length):\n",
    "    button.click()\n",
    "    \n",
    "    #extract elements with beautifulsoup\n",
    "    soup = bs(browser.html, \"html.parser\")\n",
    "    img_title = soup.find('h2', class_=\"title\").text.strip()\n",
    "    img_url = soup.find('a', target=\"_blank\")['href']\n",
    "    \n",
    "    # append list of dictionaries\n",
    "    this_dict = {\n",
    "        \"title\": \"\",\n",
    "        \"img_url\": \"\"\n",
    "    }\n",
    "    this_dict[\"title\"] = img_title\n",
    "    this_dict[\"img_url\"] = img_url\n",
    "    dict_list.append(this_dict)\n",
    "\n",
    "    # go back one level\n",
    "    browser.back()\n",
    "    buttons = browser.find_by_css('img[class=\"thumb\"]')\n",
    "    if i+1 in range(buttons_length):\n",
    "        button = buttons[i+1]\n",
    "    else:\n",
    "        pass\n",
    "    \n",
    "browser.quit()"
   ]
  },
  {
   "cell_type": "code",
   "execution_count": null,
   "metadata": {},
   "outputs": [],
   "source": [
    "print(dict_list)"
   ]
  },
  {
   "cell_type": "code",
   "execution_count": null,
   "metadata": {},
   "outputs": [],
   "source": [
    "# Looks like the scraping part is finished"
   ]
  },
  {
   "cell_type": "code",
   "execution_count": null,
   "metadata": {},
   "outputs": [],
   "source": []
  }
 ],
 "metadata": {
  "kernelspec": {
   "display_name": "Python 3",
   "language": "python",
   "name": "python3"
  },
  "language_info": {
   "codemirror_mode": {
    "name": "ipython",
    "version": 3
   },
   "file_extension": ".py",
   "mimetype": "text/x-python",
   "name": "python",
   "nbconvert_exporter": "python",
   "pygments_lexer": "ipython3",
   "version": "3.7.0"
  }
 },
 "nbformat": 4,
 "nbformat_minor": 2
}
